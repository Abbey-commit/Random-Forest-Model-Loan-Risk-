{
 "cells": [
  {
   "cell_type": "code",
   "execution_count": 17,
   "metadata": {},
   "outputs": [],
   "source": [
    "import pandas as pd\n",
    "import numpy as np\n",
    "from sklearn import preprocessing\n",
    "\n",
    "from sklearn.cluster import AgglomerativeClustering, KMeans\n",
    "from sklearn.metrics import silhouette_score\n",
    "import matplotlib.pyplot as plt"
   ]
  },
  {
   "cell_type": "code",
   "execution_count": 18,
   "metadata": {},
   "outputs": [],
   "source": [
    "df_atm = pd.read_csv('train.csv')"
   ]
  },
  {
   "cell_type": "code",
   "execution_count": 19,
   "metadata": {},
   "outputs": [
    {
     "data": {
      "text/html": [
       "<div>\n",
       "<style scoped>\n",
       "    .dataframe tbody tr th:only-of-type {\n",
       "        vertical-align: middle;\n",
       "    }\n",
       "\n",
       "    .dataframe tbody tr th {\n",
       "        vertical-align: top;\n",
       "    }\n",
       "\n",
       "    .dataframe thead th {\n",
       "        text-align: right;\n",
       "    }\n",
       "</style>\n",
       "<table border=\"1\" class=\"dataframe\">\n",
       "  <thead>\n",
       "    <tr style=\"text-align: right;\">\n",
       "      <th></th>\n",
       "      <th>DATE</th>\n",
       "      <th>ATM_ID</th>\n",
       "      <th>CLIENT_OUT</th>\n",
       "    </tr>\n",
       "  </thead>\n",
       "  <tbody>\n",
       "    <tr>\n",
       "      <th>0</th>\n",
       "      <td>2015-01-01</td>\n",
       "      <td>0</td>\n",
       "      <td>91600</td>\n",
       "    </tr>\n",
       "    <tr>\n",
       "      <th>1</th>\n",
       "      <td>2015-01-02</td>\n",
       "      <td>0</td>\n",
       "      <td>136500</td>\n",
       "    </tr>\n",
       "    <tr>\n",
       "      <th>2</th>\n",
       "      <td>2015-01-03</td>\n",
       "      <td>0</td>\n",
       "      <td>335400</td>\n",
       "    </tr>\n",
       "    <tr>\n",
       "      <th>3</th>\n",
       "      <td>2015-01-04</td>\n",
       "      <td>0</td>\n",
       "      <td>379000</td>\n",
       "    </tr>\n",
       "    <tr>\n",
       "      <th>4</th>\n",
       "      <td>2015-01-05</td>\n",
       "      <td>0</td>\n",
       "      <td>344100</td>\n",
       "    </tr>\n",
       "  </tbody>\n",
       "</table>\n",
       "</div>"
      ],
      "text/plain": [
       "         DATE  ATM_ID  CLIENT_OUT\n",
       "0  2015-01-01       0       91600\n",
       "1  2015-01-02       0      136500\n",
       "2  2015-01-03       0      335400\n",
       "3  2015-01-04       0      379000\n",
       "4  2015-01-05       0      344100"
      ]
     },
     "execution_count": 19,
     "metadata": {},
     "output_type": "execute_result"
    }
   ],
   "source": [
    "df_atm.head()"
   ]
  },
  {
   "cell_type": "markdown",
   "metadata": {},
   "source": [
    "### Cast the type of data"
   ]
  },
  {
   "cell_type": "code",
   "execution_count": 20,
   "metadata": {},
   "outputs": [],
   "source": [
    "df_atm = df_atm.assign(past_years=df_atm.loc[:, 'DATE']\\\n",
    "                       .apply(lambda x : int(x.split('-')[0]) - 2014))"
   ]
  },
  {
   "cell_type": "code",
   "execution_count": 21,
   "metadata": {},
   "outputs": [],
   "source": [
    "df_atm = df_atm.assign(month=df_atm.loc[:, 'DATE'].apply(lambda x : x.split('-')[1]))"
   ]
  },
  {
   "cell_type": "code",
   "execution_count": 22,
   "metadata": {},
   "outputs": [],
   "source": [
    "df_atm = df_atm.astype({'DATE': 'datetime64[ns]', 'month' : 'int8'})"
   ]
  },
  {
   "cell_type": "code",
   "execution_count": 23,
   "metadata": {},
   "outputs": [],
   "source": [
    "def mapQuarter(x):\n",
    "    return(x - 1) // 3 + 1"
   ]
  },
  {
   "cell_type": "code",
   "execution_count": 24,
   "metadata": {},
   "outputs": [],
   "source": [
    "df_atm = df_atm.assign(Quarter=df_atm.loc[:, 'month'].apply(lambda x : mapQuarter(x)))"
   ]
  },
  {
   "cell_type": "code",
   "execution_count": 25,
   "metadata": {},
   "outputs": [
    {
     "data": {
      "text/html": [
       "<div>\n",
       "<style scoped>\n",
       "    .dataframe tbody tr th:only-of-type {\n",
       "        vertical-align: middle;\n",
       "    }\n",
       "\n",
       "    .dataframe tbody tr th {\n",
       "        vertical-align: top;\n",
       "    }\n",
       "\n",
       "    .dataframe thead th {\n",
       "        text-align: right;\n",
       "    }\n",
       "</style>\n",
       "<table border=\"1\" class=\"dataframe\">\n",
       "  <thead>\n",
       "    <tr style=\"text-align: right;\">\n",
       "      <th></th>\n",
       "      <th>DATE</th>\n",
       "      <th>ATM_ID</th>\n",
       "      <th>CLIENT_OUT</th>\n",
       "      <th>past_years</th>\n",
       "      <th>month</th>\n",
       "      <th>Quarter</th>\n",
       "    </tr>\n",
       "  </thead>\n",
       "  <tbody>\n",
       "    <tr>\n",
       "      <th>0</th>\n",
       "      <td>2015-01-01</td>\n",
       "      <td>0</td>\n",
       "      <td>91600</td>\n",
       "      <td>1</td>\n",
       "      <td>1</td>\n",
       "      <td>1</td>\n",
       "    </tr>\n",
       "    <tr>\n",
       "      <th>1</th>\n",
       "      <td>2015-01-02</td>\n",
       "      <td>0</td>\n",
       "      <td>136500</td>\n",
       "      <td>1</td>\n",
       "      <td>1</td>\n",
       "      <td>1</td>\n",
       "    </tr>\n",
       "    <tr>\n",
       "      <th>2</th>\n",
       "      <td>2015-01-03</td>\n",
       "      <td>0</td>\n",
       "      <td>335400</td>\n",
       "      <td>1</td>\n",
       "      <td>1</td>\n",
       "      <td>1</td>\n",
       "    </tr>\n",
       "    <tr>\n",
       "      <th>3</th>\n",
       "      <td>2015-01-04</td>\n",
       "      <td>0</td>\n",
       "      <td>379000</td>\n",
       "      <td>1</td>\n",
       "      <td>1</td>\n",
       "      <td>1</td>\n",
       "    </tr>\n",
       "    <tr>\n",
       "      <th>4</th>\n",
       "      <td>2015-01-05</td>\n",
       "      <td>0</td>\n",
       "      <td>344100</td>\n",
       "      <td>1</td>\n",
       "      <td>1</td>\n",
       "      <td>1</td>\n",
       "    </tr>\n",
       "  </tbody>\n",
       "</table>\n",
       "</div>"
      ],
      "text/plain": [
       "        DATE  ATM_ID  CLIENT_OUT  past_years  month  Quarter\n",
       "0 2015-01-01       0       91600           1      1        1\n",
       "1 2015-01-02       0      136500           1      1        1\n",
       "2 2015-01-03       0      335400           1      1        1\n",
       "3 2015-01-04       0      379000           1      1        1\n",
       "4 2015-01-05       0      344100           1      1        1"
      ]
     },
     "execution_count": 25,
     "metadata": {},
     "output_type": "execute_result"
    }
   ],
   "source": [
    "df_atm.head()"
   ]
  },
  {
   "cell_type": "code",
   "execution_count": 26,
   "metadata": {},
   "outputs": [],
   "source": [
    "df_atm = df_atm.astype({'DATE' : \"datetime64[ns]\", 'month' : 'int8'})"
   ]
  },
  {
   "cell_type": "code",
   "execution_count": 27,
   "metadata": {},
   "outputs": [
    {
     "data": {
      "text/plain": [
       "DATE          datetime64[ns]\n",
       "ATM_ID                 int64\n",
       "CLIENT_OUT             int64\n",
       "past_years             int64\n",
       "month                   int8\n",
       "Quarter                int64\n",
       "dtype: object"
      ]
     },
     "execution_count": 27,
     "metadata": {},
     "output_type": "execute_result"
    }
   ],
   "source": [
    "df_atm.dtypes"
   ]
  },
  {
   "cell_type": "code",
   "execution_count": 29,
   "metadata": {},
   "outputs": [],
   "source": [
    "scaler = preprocessing.StandardScaler()\n",
    "cols = ['past_years', 'ATM_ID', 'yearly_out']"
   ]
  },
  {
   "cell_type": "code",
   "execution_count": 33,
   "metadata": {},
   "outputs": [],
   "source": [
    "X_scaled = pd.DataFrame(scaler.fit_transform(df_atm['CLIENT_OUT'].values.reshape(-1, 1)), columns=['CLIENT_OUT_scaled'])\n",
    "\n",
    "X_scaled = pd.concat((df_atm['Quarter'], df_atm['past_years'],df_atm['ATM_ID'], X_scaled), axis=1)"
   ]
  },
  {
   "cell_type": "code",
   "execution_count": 34,
   "metadata": {},
   "outputs": [],
   "source": [
    "yearly_out = X_scaled.pivot_table(index = 'ATM_ID', \\\n",
    "                                 columns = 'Quarter', aggfunc = {'CLIENT_OUT_scaled' : [np.min]})"
   ]
  },
  {
   "cell_type": "code",
   "execution_count": 38,
   "metadata": {},
   "outputs": [],
   "source": [
    "from scipy.spatial.distance import cdist"
   ]
  },
  {
   "cell_type": "code",
   "execution_count": 39,
   "metadata": {},
   "outputs": [],
   "source": [
    "def compute_cluster_centers(model,data):\n",
    "    centers = []\n",
    "    labs = model.labels_\n",
    "    for i in range(max(labs)+1):\n",
    "        centers.append(np.mean(data.values[np.where(labs==i)[0]], axis=0))\n",
    "    return centers\n",
    "\n",
    "def compute_distortion(model, data):\n",
    "    return sum(np.min(cdist(data, compute_cluster_centers(model, data), 'euclidean'), axis=1)) / data.shape[0]"
   ]
  },
  {
   "cell_type": "code",
   "execution_count": 42,
   "metadata": {},
   "outputs": [],
   "source": [
    "scores =[]\n",
    "inertia = []\n",
    "for k in range(2, 30):\n",
    "    algo = KMeans(n_clusters=k).fit(yearly_out)\n",
    "    labels = algo.labels_\n",
    "    inertia.append(compute_distortion(algo, yearly_out))\n",
    "    scores.append(silhouette_score(yearly_out, labels))"
   ]
  },
  {
   "cell_type": "code",
   "execution_count": 43,
   "metadata": {},
   "outputs": [
    {
     "data": {
      "text/plain": [
       "[<matplotlib.lines.Line2D at 0x29a596329c8>]"
      ]
     },
     "execution_count": 43,
     "metadata": {},
     "output_type": "execute_result"
    },
    {
     "data": {
      "image/png": "[encoded data removed]",
      "text/plain": [
       "<Figure size 432x288 with 1 Axes>"
      ]
     },
     "metadata": {
      "needs_background": "light"
     },
     "output_type": "display_data"
    }
   ],
   "source": [
    "plt.plot(range(2, 30), inertia)"
   ]
  },
  {
   "cell_type": "code",
   "execution_count": 44,
   "metadata": {},
   "outputs": [
    {
     "data": {
      "text/plain": [
       "[<matplotlib.lines.Line2D at 0x29a596ca508>]"
      ]
     },
     "execution_count": 44,
     "metadata": {},
     "output_type": "execute_result"
    },
    {
     "data": {
      "image/png": "[encoded data removed]",
      "text/plain": [
       "<Figure size 432x288 with 1 Axes>"
      ]
     },
     "metadata": {
      "needs_background": "light"
     },
     "output_type": "display_data"
    }
   ],
   "source": [
    "plt.plot(range(2, 30), scores)"
   ]
  },
  {
   "cell_type": "code",
   "execution_count": 45,
   "metadata": {},
   "outputs": [
    {
     "data": {
      "text/plain": [
       "3"
      ]
     },
     "execution_count": 45,
     "metadata": {},
     "output_type": "execute_result"
    }
   ],
   "source": [
    "np.argmax(scores) + 2"
   ]
  },
  {
   "cell_type": "code",
   "execution_count": 46,
   "metadata": {},
   "outputs": [],
   "source": [
    "opt_algo = AgglomerativeClustering(14)\n",
    "opt_algo.fit(yearly_out)\n",
    "labels = opt_algo.labels_"
   ]
  },
  {
   "cell_type": "code",
   "execution_count": 47,
   "metadata": {},
   "outputs": [],
   "source": [
    "groups = {}\n",
    "for i in range(max(labels)+1):\n",
    "    groups['atm_cluster_' + str(i)] = yearly_out.reset_index()['ATM_ID'].values[np.where(labels==i)[0]]"
   ]
  },
  {
   "cell_type": "code",
   "execution_count": 48,
   "metadata": {},
   "outputs": [],
   "source": [
    "def associate_cluster(x, groups):\n",
    "    for c in list(groups):\n",
    "        #print(c)\n",
    "        if x in groups[c]:\n",
    "            break\n",
    "    return c"
   ]
  },
  {
   "cell_type": "code",
   "execution_count": 49,
   "metadata": {},
   "outputs": [],
   "source": [
    "df_atm.loc[:, 'atm_cluster'] = df_atm.loc[:,'ATM_ID'].apply(lambda x: associate_cluster(x,groups))"
   ]
  },
  {
   "cell_type": "code",
   "execution_count": 50,
   "metadata": {},
   "outputs": [
    {
     "data": {
      "text/html": [
       "<div>\n",
       "<style scoped>\n",
       "    .dataframe tbody tr th:only-of-type {\n",
       "        vertical-align: middle;\n",
       "    }\n",
       "\n",
       "    .dataframe tbody tr th {\n",
       "        vertical-align: top;\n",
       "    }\n",
       "\n",
       "    .dataframe thead th {\n",
       "        text-align: right;\n",
       "    }\n",
       "</style>\n",
       "<table border=\"1\" class=\"dataframe\">\n",
       "  <thead>\n",
       "    <tr style=\"text-align: right;\">\n",
       "      <th></th>\n",
       "      <th>CLIENT_OUT</th>\n",
       "    </tr>\n",
       "    <tr>\n",
       "      <th>atm_cluster</th>\n",
       "      <th></th>\n",
       "    </tr>\n",
       "  </thead>\n",
       "  <tbody>\n",
       "    <tr>\n",
       "      <th>atm_cluster_0</th>\n",
       "      <td>2786015900</td>\n",
       "    </tr>\n",
       "    <tr>\n",
       "      <th>atm_cluster_1</th>\n",
       "      <td>1498623900</td>\n",
       "    </tr>\n",
       "    <tr>\n",
       "      <th>atm_cluster_10</th>\n",
       "      <td>2249177400</td>\n",
       "    </tr>\n",
       "    <tr>\n",
       "      <th>atm_cluster_11</th>\n",
       "      <td>664482500</td>\n",
       "    </tr>\n",
       "    <tr>\n",
       "      <th>atm_cluster_12</th>\n",
       "      <td>52268300</td>\n",
       "    </tr>\n",
       "    <tr>\n",
       "      <th>atm_cluster_13</th>\n",
       "      <td>325095400</td>\n",
       "    </tr>\n",
       "    <tr>\n",
       "      <th>atm_cluster_2</th>\n",
       "      <td>1331356200</td>\n",
       "    </tr>\n",
       "    <tr>\n",
       "      <th>atm_cluster_3</th>\n",
       "      <td>1207378600</td>\n",
       "    </tr>\n",
       "    <tr>\n",
       "      <th>atm_cluster_4</th>\n",
       "      <td>1118795100</td>\n",
       "    </tr>\n",
       "    <tr>\n",
       "      <th>atm_cluster_5</th>\n",
       "      <td>89042934500</td>\n",
       "    </tr>\n",
       "    <tr>\n",
       "      <th>atm_cluster_6</th>\n",
       "      <td>937588900</td>\n",
       "    </tr>\n",
       "    <tr>\n",
       "      <th>atm_cluster_7</th>\n",
       "      <td>1482676300</td>\n",
       "    </tr>\n",
       "    <tr>\n",
       "      <th>atm_cluster_8</th>\n",
       "      <td>1477786300</td>\n",
       "    </tr>\n",
       "    <tr>\n",
       "      <th>atm_cluster_9</th>\n",
       "      <td>1410345900</td>\n",
       "    </tr>\n",
       "  </tbody>\n",
       "</table>\n",
       "</div>"
      ],
      "text/plain": [
       "                 CLIENT_OUT\n",
       "atm_cluster                \n",
       "atm_cluster_0    2786015900\n",
       "atm_cluster_1    1498623900\n",
       "atm_cluster_10   2249177400\n",
       "atm_cluster_11    664482500\n",
       "atm_cluster_12     52268300\n",
       "atm_cluster_13    325095400\n",
       "atm_cluster_2    1331356200\n",
       "atm_cluster_3    1207378600\n",
       "atm_cluster_4    1118795100\n",
       "atm_cluster_5   89042934500\n",
       "atm_cluster_6     937588900\n",
       "atm_cluster_7    1482676300\n",
       "atm_cluster_8    1477786300\n",
       "atm_cluster_9    1410345900"
      ]
     },
     "execution_count": 50,
     "metadata": {},
     "output_type": "execute_result"
    }
   ],
   "source": [
    "df_atm.groupby('atm_cluster').agg({'CLIENT_OUT' : \"sum\"})"
   ]
  },
  {
   "cell_type": "code",
   "execution_count": 52,
   "metadata": {},
   "outputs": [],
   "source": [
    "# A.unique().shape"
   ]
  },
  {
   "cell_type": "code",
   "execution_count": null,
   "metadata": {},
   "outputs": [],
   "source": []
  }
 ],
 "metadata": {
  "kernelspec": {
   "display_name": "Python 3",
   "language": "python",
   "name": "python3"
  },
  "language_info": {
   "codemirror_mode": {
    "name": "ipython",
    "version": 3
   },
   "file_extension": ".py",
   "mimetype": "text/x-python",
   "name": "python",
   "nbconvert_exporter": "python",
   "pygments_lexer": "ipython3",
   "version": "3.7.6"
  }
 },
 "nbformat": 4,
 "nbformat_minor": 4
}
